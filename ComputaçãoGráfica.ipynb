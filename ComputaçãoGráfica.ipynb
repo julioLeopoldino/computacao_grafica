{
  "nbformat": 4,
  "nbformat_minor": 0,
  "metadata": {
    "colab": {
      "provenance": [],
      "authorship_tag": "ABX9TyOIl3Fct2moqXDxPOOL5dsY",
      "include_colab_link": true
    },
    "kernelspec": {
      "name": "python3",
      "display_name": "Python 3"
    },
    "language_info": {
      "name": "python"
    }
  },
  "cells": [
    {
      "cell_type": "markdown",
      "metadata": {
        "id": "view-in-github",
        "colab_type": "text"
      },
      "source": [
        "<a href=\"https://colab.research.google.com/github/julioLeopoldino/computacao_grafica/blob/main/Computa%C3%A7%C3%A3oGr%C3%A1fica.ipynb\" target=\"_parent\"><img src=\"https://colab.research.google.com/assets/colab-badge.svg\" alt=\"Open In Colab\"/></a>"
      ]
    },
    {
      "cell_type": "code",
      "execution_count": null,
      "metadata": {
        "id": "VIjPV5rghrkW"
      },
      "outputs": [],
      "source": [
        "import cv2\n",
        "import numpy as np\n",
        "from matplotlib import pyplot as plt"
      ]
    },
    {
      "cell_type": "code",
      "source": [
        "image = np.zeros((400,400,3), dtype = np.uint8)\n",
        "center = (200,200)\n",
        "radius = 100\n",
        "color = (255,0,0)\n",
        "cv2.circle(image, center, radius, color, -1)\n",
        "plt.imshow(image)\n",
        "plt.axis('off')\n",
        "plt.show()"
      ],
      "metadata": {
        "id": "yAc8mZ_wiYji"
      },
      "execution_count": null,
      "outputs": []
    },
    {
      "cell_type": "code",
      "source": [
        "image = np.zeros((400,400,3), dtype = np.uint8)\n",
        "top_left = (100,100)\n",
        "bottom_right = (300,200)\n",
        "color = (0,255,0)\n",
        "cv2.rectangle(image, top_left, bottom_right, color, -1)\n",
        "plt.axis('off')\n",
        "plt.imshow(image)\n",
        "plt.show()"
      ],
      "metadata": {
        "id": "6OjUuJELkadZ"
      },
      "execution_count": null,
      "outputs": []
    },
    {
      "cell_type": "code",
      "source": [
        "image = np.zeros((400,400,3), dtype = np.uint8)\n",
        "vertices = np.array([[200,100],[100,300],[300,300]], np.int32)\n",
        "vertices  = vertices. reshape((-1,1,2))\n",
        "color = (255,0,0)\n",
        "\n",
        "cv2.polylines (image,[vertices],isClosed = True, color=color)\n",
        "cv2.drawContours (image,[vertices], 0, (100,0,100), -1)\n",
        "plt.imshow(image)\n",
        "plt.axis('off')\n",
        "plt.show()"
      ],
      "metadata": {
        "id": "_gk7TCeNmkwm"
      },
      "execution_count": null,
      "outputs": []
    },
    {
      "cell_type": "code",
      "source": [
        "image = np.zeros((400,400,), dtype = np.uint8)\n",
        "x, y, width, height = 100, 100, 200, 200\n",
        "num_cells = 8\n",
        "cell_size = width // num_cells\n",
        "for i in range(num_cells):\n",
        "  for j in range(num_cells):\n",
        "    if (i + j)%2 ==0:\n",
        "      a = x + j * cell_size\n",
        "      b = y + i * cell_size\n",
        "      c = x + (j + 1) * cell_size\n",
        "      d = y + (i + 1) * cell_size\n",
        "      cv2.rectangle(image, (a , b), (c , d), 255, -1)\n",
        "plt.imshow(image, cmap='gray')\n",
        "plt.axis('off')\n",
        "plt.show()"
      ],
      "metadata": {
        "id": "dGqYDRJPvzgW"
      },
      "execution_count": null,
      "outputs": []
    },
    {
      "cell_type": "code",
      "source": [
        "image = np.zeros((400,400,3), dtype=np.uint8)\n",
        "vertices = np.array([[100,100],[200,300],[300,200],[250,100], [50,50]], np.int32)\n",
        "vertices = vertices.reshape((-1,1,2))\n",
        "color = (30,10,30)\n",
        "cv2.fillPoly(image,[vertices], color)\n",
        "plt.imshow(image)\n",
        "plt.axis('off')\n",
        "plt.show()"
      ],
      "metadata": {
        "id": "FffVe2J60LTE"
      },
      "execution_count": null,
      "outputs": []
    },
    {
      "cell_type": "code",
      "source": [
        "image = np.zeros((400,400,3), dtype=np.uint8) # os primeiro dois numeros 400 sao o tamanho e o numero 3 é para dizer que tem tres cores, ou seja R G B(red, green e blue)\n",
        "center = (200,200)\n",
        "radius = 100\n",
        "for angle in range(0,360,10):\n",
        "  a = int(center[0] + radius * np.cos(np.radians(angle)))\n",
        "  b = int(center[1] + radius * np.sin(np.radians(angle)))\n",
        "  end_point = (a,b)\n",
        "  color = (255,255,255)\n",
        "  cv2.line(image, center, end_point, color,2) # o numero 2 no final serve para expessura da linha\n",
        "\n",
        "plt.imshow(image)\n",
        "plt.axis('off')\n",
        "plt.show"
      ],
      "metadata": {
        "id": "WUSCOWgk2tjr"
      },
      "execution_count": null,
      "outputs": []
    },
    {
      "cell_type": "code",
      "source": [
        "image = np.zeros((400,400,3), dtype = np.uint8)\n",
        "cv2.circle(image,(200,200),100,(255,255,255),-1)\n",
        "cv2.circle(image,(160,160),20,(0,0,255),-1)\n",
        "cv2.circle(image,(240,160),20,(0,0,255),-1)\n",
        "cv2.rectangle(image,(160,240),(240,260),(255,0,0),-1)\n",
        "plt.imshow(image)\n",
        "plt.axis('off')\n",
        "plt.show"
      ],
      "metadata": {
        "colab": {
          "base_uri": "https://localhost:8080/",
          "height": 423
        },
        "id": "x0RUz4lS5SyH",
        "outputId": "b16dc2b8-4483-4ed7-f02b-607cbabb48db"
      },
      "execution_count": null,
      "outputs": [
        {
          "output_type": "execute_result",
          "data": {
            "text/plain": [
              "<function matplotlib.pyplot.show(close=None, block=None)>"
            ]
          },
          "metadata": {},
          "execution_count": 40
        },
        {
          "output_type": "display_data",
          "data": {
            "text/plain": [
              "<Figure size 640x480 with 1 Axes>"
            ],
            "image/png": "[encoded data removed]"
          },
          "metadata": {}
        }
      ]
    }
  ]
}