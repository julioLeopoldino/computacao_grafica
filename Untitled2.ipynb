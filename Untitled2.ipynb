{
  "nbformat": 4,
  "nbformat_minor": 0,
  "metadata": {
    "colab": {
      "provenance": [],
      "authorship_tag": "ABX9TyMZgdlOduwm+CslE1m7QiSG",
      "include_colab_link": true
    },
    "kernelspec": {
      "name": "python3",
      "display_name": "Python 3"
    },
    "language_info": {
      "name": "python"
    }
  },
  "cells": [
    {
      "cell_type": "markdown",
      "metadata": {
        "id": "view-in-github",
        "colab_type": "text"
      },
      "source": [
        "<a href=\"https://colab.research.google.com/github/julioLeopoldino/computacao_grafica/blob/main/Untitled2.ipynb\" target=\"_parent\"><img src=\"https://colab.research.google.com/assets/colab-badge.svg\" alt=\"Open In Colab\"/></a>"
      ]
    },
    {
      "cell_type": "code",
      "execution_count": null,
      "metadata": {
        "id": "B6cbZeHjk4JH"
      },
      "outputs": [],
      "source": [
        "import matplotlib.pyplot as plt\n",
        "import numpy as np\n",
        "largura = 400\n",
        "altura = 400\n",
        "imagem = np.zeros((altura, largura,3), dtype = np.uint8)\n",
        "intensidade = 200\n",
        "imagem[:,:,:] = intensidade\n",
        "\n",
        "plt.imshow(imagem)\n",
        "plt.axis('off')\n",
        "plt.title(\"Iluminação Básica\")\n",
        "plt.show()"
      ]
    },
    {
      "cell_type": "markdown",
      "source": [
        "Simulação de Física da luz"
      ],
      "metadata": {
        "id": "5RpH6x9xoYCS"
      }
    },
    {
      "cell_type": "code",
      "source": [
        "import matplotlib.pyplot as plt\n",
        "import numpy as np\n",
        "largura = 400\n",
        "altura = 400\n",
        "imagem = np.zeros((altura, largura, 3), dtype = np.uint8)\n",
        "\n",
        "for y in range(altura):\n",
        "  intensidade = int(255 * (y/altura)) # percorrer linha a linha\n",
        "  imagem[y,:,:]  = [intensidade, intensidade, intensidade] # colocando as cores na imagm para fazer o degrade\n",
        "\n",
        "plt.imshow(imagem)\n",
        "plt.axis('off')\n",
        "plt.title(\"Simulação de Física da Luz\")\n",
        "plt.show()"
      ],
      "metadata": {
        "colab": {
          "base_uri": "https://localhost:8080/",
          "height": 429
        },
        "id": "hu_AgIUfp2sX",
        "outputId": "e1ad858c-b81b-4c8e-d6e5-e9ca9f9ac772"
      },
      "execution_count": 11,
      "outputs": [
        {
          "output_type": "display_data",
          "data": {
            "text/plain": [
              "<Figure size 640x480 with 1 Axes>"
            ],
            "image/png": "[encoded data removed]"
          },
          "metadata": {}
        }
      ]
    },
    {
      "cell_type": "code",
      "source": [
        "import matplotlib.pyplot as plt\n",
        "import numpy as np\n",
        "largura = 400\n",
        "altura = 400\n",
        "imagem = np.zeros((altura, largura, 3), dtype = np.uint8)\n",
        "\n",
        "for y in range(altura):\n",
        "  vermelho = int(255 * (y/altura))\n",
        "  verde = int(255 * ((altura - y)/altura))\n",
        "  azul = 128\n",
        "  imagem [y,:,:] = [vermelho, verde, azul]\n",
        "\n",
        "plt.imshow(imagem)\n",
        "plt.axis('off')\n",
        "plt.title(\"Luz, sombra e cores\")\n",
        "plt.show()"
      ],
      "metadata": {
        "colab": {
          "base_uri": "https://localhost:8080/",
          "height": 428
        },
        "id": "HFFg_r4x0gbM",
        "outputId": "a4568117-5945-4ecf-912d-d9617461844d"
      },
      "execution_count": 13,
      "outputs": [
        {
          "output_type": "display_data",
          "data": {
            "text/plain": [
              "<Figure size 640x480 with 1 Axes>"
            ],
            "image/png": "[encoded data removed]"
          },
          "metadata": {}
        }
      ]
    }
  ]
}