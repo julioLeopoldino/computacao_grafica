{
  "nbformat": 4,
  "nbformat_minor": 0,
  "metadata": {
    "colab": {
      "provenance": [],
      "authorship_tag": "ABX9TyPhKZvLmr+p6skDeMvxyge9",
      "include_colab_link": true
    },
    "kernelspec": {
      "name": "python3",
      "display_name": "Python 3"
    },
    "language_info": {
      "name": "python"
    }
  },
  "cells": [
    {
      "cell_type": "markdown",
      "metadata": {
        "id": "view-in-github",
        "colab_type": "text"
      },
      "source": [
        "<a href=\"https://colab.research.google.com/github/julioLeopoldino/computacao_grafica/blob/main/Untitled2.ipynb\" target=\"_parent\"><img src=\"https://colab.research.google.com/assets/colab-badge.svg\" alt=\"Open In Colab\"/></a>"
      ]
    },
    {
      "cell_type": "code",
      "execution_count": 1,
      "metadata": {
        "colab": {
          "base_uri": "https://localhost:8080/",
          "height": 429
        },
        "id": "1rVm9RTizNwZ",
        "outputId": "bb69bfcc-d661-48d6-ffe5-80636a334ea1"
      },
      "outputs": [
        {
          "output_type": "display_data",
          "data": {
            "text/plain": [
              "<Figure size 640x480 with 1 Axes>"
            ],
            "image/png": "[encoded data removed]"
          },
          "metadata": {}
        }
      ],
      "source": [
        "import matplotlib.pyplot as plt\n",
        "import numpy as np\n",
        "largura = 400\n",
        "altura = 400\n",
        "imagem = np.zeros((altura, largura, 3), dtype = np.uint8)\n",
        "\n",
        "for y in range(altura):\n",
        "  intensidade = int(255 * (y/altura)) # percorrer linha a linha\n",
        "  imagem[y,:,:]  = [intensidade, intensidade, intensidade] # colocando as cores na imagm para fazer o degrade\n",
        "\n",
        "plt.imshow(imagem)\n",
        "plt.axis('off')\n",
        "plt.title(\"Simulação de Física da Luz\")\n",
        "plt.show()"
      ]
    },
    {
      "cell_type": "markdown",
      "source": [],
      "metadata": {
        "id": "nKqu0FgkzZBh"
      }
    }
  ]
}