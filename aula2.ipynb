{
  "nbformat": 4,
  "nbformat_minor": 0,
  "metadata": {
    "colab": {
      "provenance": [],
      "authorship_tag": "ABX9TyM23jPw2OSae1kVtQ+/RgO+",
      "include_colab_link": true
    },
    "kernelspec": {
      "name": "python3",
      "display_name": "Python 3"
    },
    "language_info": {
      "name": "python"
    }
  },
  "cells": [
    {
      "cell_type": "markdown",
      "metadata": {
        "id": "view-in-github",
        "colab_type": "text"
      },
      "source": [
        "<a href=\"https://colab.research.google.com/github/julioLeopoldino/computacao_grafica/blob/main/aula2.ipynb\" target=\"_parent\"><img src=\"https://colab.research.google.com/assets/colab-badge.svg\" alt=\"Open In Colab\"/></a>"
      ]
    },
    {
      "cell_type": "code",
      "execution_count": null,
      "metadata": {
        "id": "B6cbZeHjk4JH"
      },
      "outputs": [],
      "source": [
        "import matplotlib.pyplot as plt\n",
        "import numpy as np\n",
        "largura = 400\n",
        "altura = 400\n",
        "imagem = np.zeros((altura, largura,3), dtype = np.uint8) # linha padrão para gerar imagem\n",
        "intensidade = 200\n",
        "imagem[:,:,:] = intensidade\n",
        "\n",
        "plt.imshow(imagem)\n",
        "plt.axis('off')\n",
        "plt.title(\"Iluminação Básica\")\n",
        "plt.show()"
      ]
    },
    {
      "cell_type": "markdown",
      "source": [
        "Simulação de Física da luz"
      ],
      "metadata": {
        "id": "5RpH6x9xoYCS"
      }
    },
    {
      "cell_type": "code",
      "source": [
        "import matplotlib.pyplot as plt\n",
        "import numpy as np\n",
        "largura = 400\n",
        "altura = 400\n",
        "imagem = np.zeros((altura, largura, 3), dtype = np.uint8) # linha padrão para gerar imagem\n",
        "\n",
        "for y in range(altura):\n",
        "  intensidade = int(255 * (y/altura)) # percorrer linha a linha\n",
        "  imagem[y,:,:]  = [intensidade, intensidade, intensidade] # colocando as cores na imagm para fazer o degrade\n",
        "\n",
        "plt.imshow(imagem)\n",
        "plt.axis('off')\n",
        "plt.title(\"Simulação de Física da Luz\")\n",
        "plt.show()"
      ],
      "metadata": {
        "id": "hu_AgIUfp2sX"
      },
      "execution_count": null,
      "outputs": []
    },
    {
      "cell_type": "code",
      "source": [
        "import matplotlib.pyplot as plt\n",
        "import numpy as np\n",
        "largura = 400\n",
        "altura = 400\n",
        "imagem = np.zeros((altura, largura, 3), dtype = np.uint8) # linha padrão para gerar imagem\n",
        "\n",
        "for y in range(altura):\n",
        "  vermelho = int(255 * (y/altura))\n",
        "  verde = int(255 * ((altura - y)/altura))\n",
        "  azul = 128\n",
        "  imagem [y,:,:] = [vermelho, verde, azul]\n",
        "\n",
        "plt.imshow(imagem)\n",
        "plt.axis('off')\n",
        "plt.title(\"Luz, sombra e cores\")\n",
        "plt.show()"
      ],
      "metadata": {
        "id": "HFFg_r4x0gbM"
      },
      "execution_count": null,
      "outputs": []
    },
    {
      "cell_type": "markdown",
      "source": [
        "Interpolação Linear"
      ],
      "metadata": {
        "id": "sUKKGWJv2xzA"
      }
    },
    {
      "cell_type": "code",
      "source": [
        "import matplotlib.pyplot as plt\n",
        "import numpy as np\n",
        "largura = 400\n",
        "altura = 400\n",
        "imagem = np.zeros((altura, largura, 3), dtype = np.uint8) # linha padrão para gerar imagem\n",
        "\n",
        "cor1 = [255, 0, 0]\n",
        "cor2 = [0, 0, 255]\n",
        "\n",
        "for x in range(largura):\n",
        "  t = x / largura\n",
        "  corInterpolada = (1-t) * np.array(cor1) + t * np.array(cor2)\n",
        "  imagem[:, x, :] = corInterpolada.astype(np.uint8)\n",
        "\n",
        "plt.imshow(imagem)\n",
        "plt.axis('off')\n",
        "plt.title(\"Luz, sombra e cores\")\n",
        "plt.show()"
      ],
      "metadata": {
        "id": "41aTgjgH3Aad"
      },
      "execution_count": null,
      "outputs": []
    },
    {
      "cell_type": "markdown",
      "source": [
        "# Interpolação Avançada(Bilinear) ⭐\n",
        "\n",
        "\n"
      ],
      "metadata": {
        "id": "JrZL7_8H5lqE"
      }
    },
    {
      "cell_type": "code",
      "source": [
        "import matplotlib.pyplot as plt\n",
        "import numpy as np\n",
        "largura = 400\n",
        "altura = 400\n",
        "imagem = np.zeros((altura, largura, 3), dtype = np.uint8) # linha padrão para gerar imagem\n",
        "\n",
        "cor_sup_esq=[255,0,0]\n",
        "cor_sup_dir=[0,255,0]\n",
        "cor_inf_esq=[0,0,255]\n",
        "cor_inf_dir=[255,255,0]\n",
        "\n",
        "for y in range(altura):\n",
        "  for x in range(largura):\n",
        "    tx = x / (largura -1)\n",
        "    ty = y / (altura - 1)\n",
        "    cor_superior = (1 -tx) *np.array(cor_sup_esq) + tx * np.array(cor_sup_dir)\n",
        "    cor_inferior = (1 -tx) *np.array(cor_inf_esq) + tx * np.array(cor_inf_dir)\n",
        "    cor_interpolada = (1 -ty) * cor_superior +ty * cor_inferior\n",
        "    imagem[y,x,:] = cor_interpolada.astype(np.uint)\n",
        "\n",
        "plt.imshow(imagem)\n",
        "plt.axis('off')\n",
        "plt.title(\"Interpolação Bilinear\")\n",
        "plt.show()"
      ],
      "metadata": {
        "id": "YWu95ivJ5qpi"
      },
      "execution_count": null,
      "outputs": []
    },
    {
      "cell_type": "markdown",
      "source": [
        "Transformações Geométricas (Translação)"
      ],
      "metadata": {
        "id": "E79QkPSP9U3p"
      }
    },
    {
      "cell_type": "code",
      "source": [
        "import matplotlib.pyplot as plt\n",
        "import numpy as np\n",
        "largura = 400\n",
        "altura = 400\n",
        "imagem = np.zeros((altura, largura, 3), dtype = np.uint8) # linha padrão para gerar imagem\n",
        "\n",
        "imagem_origem = np.zeros((altura, largura, 3), dtype = np.uint8)\n",
        "imagem_origem[150:250, 150:250, :] = [255,0,0]\n",
        "\n",
        "#parametro de translação\n",
        "dx = 60\n",
        "dy = 150\n",
        "\n",
        "for y in range(altura):\n",
        "  for x in range(largura):\n",
        "    xOrigem = x - dx\n",
        "    yOrigem = y - dy\n",
        "    if 0<=xOrigem < largura and 0 <= yOrigem < largura:\n",
        "      imagem[y,x,:] = imagem_origem[yOrigem, xOrigem, :]\n",
        "\n",
        "\n",
        "plt.imshow(imagem)\n",
        "plt.axis('off')\n",
        "plt.title(\"Interpolação Bilinear\")\n",
        "plt.show()"
      ],
      "metadata": {
        "colab": {
          "base_uri": "https://localhost:8080/",
          "height": 428
        },
        "id": "3WpX2S-z9fNW",
        "outputId": "eda7f834-1051-4a35-c3fe-d8ad54ef8fda"
      },
      "execution_count": 38,
      "outputs": [
        {
          "output_type": "display_data",
          "data": {
            "text/plain": [
              "<Figure size 640x480 with 1 Axes>"
            ],
            "image/png": "[encoded data removed]"
          },
          "metadata": {}
        }
      ]
    }
  ]
}